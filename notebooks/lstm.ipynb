{
 "cells": [
  {
   "cell_type": "code",
   "execution_count": 1,
   "metadata": {},
   "outputs": [],
   "source": [
    "%load_ext autoreload\n",
    "%autoreload 2"
   ]
  },
  {
   "cell_type": "code",
   "execution_count": 2,
   "metadata": {},
   "outputs": [],
   "source": [
    "import os\n",
    "import random\n",
    "import sys\n",
    "from collections.abc import Sequence\n",
    "from typing import NamedTuple, TypeVar\n",
    "\n",
    "import numpy as np\n",
    "import optuna\n",
    "import torch\n",
    "import ipywidgets as widgets\n",
    "from ipywidgets import interact\n",
    "from matplotlib import pyplot as plt\n",
    "from sklearn.model_selection import train_test_split\n",
    "from torch import nn, Tensor\n",
    "from torch.nn import functional as F\n",
    "from torch.optim import Adam\n",
    "\n",
    "sys.path.append(os.path.realpath(\"..\"))\n",
    "\n",
    "from evlp_bronch import lstm\n",
    "from evlp_bronch.dataset import ALL_LUNG_IDS, ProcessedEVLPDataset\n",
    "from evlp_bronch.util import get_project_root_dir\n",
    "\n",
    "# import intel_extension_for_pytorch as ipex"
   ]
  },
  {
   "cell_type": "code",
   "execution_count": 3,
   "metadata": {},
   "outputs": [
    {
     "name": "stderr",
     "output_type": "stream",
     "text": [
      "2023-12-01 02:07:30,502 - evlp_bronch.dataset - INFO - Lung_id 29: Interpolation Dy_comp: between 329 and 331: 142.764474, 157.684626\n",
      "2023-12-01 02:07:30,528 - evlp_bronch.dataset - INFO - Lung_id 47: Interpolation Dy_comp: between 51 and 56: 50.582276, 72.674668\n",
      "2023-12-01 02:07:30,540 - evlp_bronch.dataset - INFO - Lung_id 53: Interpolation Dy_comp: between 2813 and 2824: 60.586801, 106.632301\n"
     ]
    }
   ],
   "source": [
    "dataset = ProcessedEVLPDataset(ALL_LUNG_IDS)"
   ]
  },
  {
   "cell_type": "code",
   "execution_count": 4,
   "metadata": {},
   "outputs": [
    {
     "name": "stderr",
     "output_type": "stream",
     "text": [
      "2023-12-01 02:07:30,665 - evlp_bronch.dataset - INFO - Lung_id 29: Interpolation Dy_comp: between 329 and 331: 142.764474, 157.684626\n",
      "2023-12-01 02:07:30,689 - evlp_bronch.dataset - INFO - Lung_id 47: Interpolation Dy_comp: between 51 and 56: 50.582276, 72.674668\n",
      "2023-12-01 02:07:30,701 - evlp_bronch.dataset - INFO - Lung_id 53: Interpolation Dy_comp: between 2813 and 2824: 60.586801, 106.632301\n"
     ]
    }
   ],
   "source": [
    "# Train test split according to lung case number\n",
    "train_lung_ids, test_lung_ids = train_test_split(\n",
    "    ALL_LUNG_IDS, test_size=2, random_state=0\n",
    ")\n",
    "train_lung_ids, val_lung_ids = train_test_split(\n",
    "    train_lung_ids, test_size=2, random_state=0\n",
    ")\n",
    "train_dataset = ProcessedEVLPDataset(train_lung_ids)\n",
    "val_dataset = ProcessedEVLPDataset(val_lung_ids)\n",
    "test_dataset = ProcessedEVLPDataset(test_lung_ids)"
   ]
  },
  {
   "cell_type": "code",
   "execution_count": 5,
   "metadata": {},
   "outputs": [],
   "source": [
    "T = TypeVar(\"T\")\n",
    "\n",
    "\n",
    "def rindex(seq: Sequence[T], value: T) -> int:\n",
    "    \"\"\"Finds the last occurrence of a value in a sequence.\"\"\"\n",
    "    i = seq[::-1].index(value)\n",
    "    return len(seq) - i - 1"
   ]
  },
  {
   "cell_type": "code",
   "execution_count": 6,
   "metadata": {},
   "outputs": [],
   "source": [
    "# Override the default device here\n",
    "PREFERRED_DEVICE: str | torch.device | None = None"
   ]
  },
  {
   "cell_type": "code",
   "execution_count": 7,
   "metadata": {},
   "outputs": [],
   "source": [
    "def infer_preferred_device(device: str | torch.device | None) -> torch.device:\n",
    "    if device is not None:\n",
    "        if not isinstance(device, torch.device):\n",
    "            device = torch.device(device)\n",
    "        # print(f\"Using device: {device}\")\n",
    "        return device\n",
    "    if hasattr(torch, \"cuda\") and torch.cuda.is_available():\n",
    "        return torch.device(\"cuda\")\n",
    "    if hasattr(torch.backends, \"mps\") and torch.backends.mps.is_available():\n",
    "        return torch.device(\"mps\")\n",
    "    # if torch.xpu.is_available():\n",
    "    #     # print(\"Using XPU\")\n",
    "    #     return torch.device(\"xpu\")\n",
    "    # print(\"Using CPU\")\n",
    "    return torch.device(\"cpu\")"
   ]
  },
  {
   "cell_type": "markdown",
   "metadata": {},
   "source": [
    "## Pytorch Encoder-Decoder"
   ]
  },
  {
   "cell_type": "code",
   "execution_count": 8,
   "metadata": {},
   "outputs": [],
   "source": [
    "class LSTMSeq2SeqHParams(NamedTuple):\n",
    "    num_epochs: int\n",
    "    hidden_size: int\n",
    "    num_layers: int = 1\n",
    "    lr: float = 1e-3\n",
    "    teacher_forcing_ratio: float = 0.0\n",
    "    inout_dtype: str | np.dtype = np.float32\n",
    "    device: str | torch.device | None = None"
   ]
  },
  {
   "cell_type": "markdown",
   "metadata": {},
   "source": [
    "### Preprocessing"
   ]
  },
  {
   "cell_type": "code",
   "execution_count": 9,
   "metadata": {},
   "outputs": [],
   "source": [
    "def preprocess_no_padding(\n",
    "    dataset: ProcessedEVLPDataset,\n",
    "    inout_dtype: str | np.dtype = np.float32,\n",
    "    device: str | torch.device | None = None,\n",
    ") -> list[tuple[Tensor, Tensor]]:\n",
    "    device = infer_preferred_device(device)\n",
    "    data = []\n",
    "\n",
    "    for element in dataset:\n",
    "        # Find the last bronch\n",
    "        metric_start = rindex(list(element[\"Is_bronch\"]), 1)\n",
    "        changes = np.where(np.diff(element[\"Is_assessment\"]) == 1)[0]\n",
    "        last_assessment_start = (\n",
    "            changes[-1] + 1 if len(changes) > 0 else len(element[\"Is_assessment\"]) - 1\n",
    "        )\n",
    "        if metric_start < (len(element[\"Is_assessment\"]) - 1) * 0:\n",
    "            continue\n",
    "        if metric_start > last_assessment_start:\n",
    "            last_assessment_start = len(element[\"Is_assessment\"]) - 1\n",
    "        # Stack things together\n",
    "        input_range = slice(None, metric_start + 1)\n",
    "        X = np.stack(\n",
    "            [\n",
    "                element[\"Dy_comp\"][input_range],\n",
    "                element[\"Is_normal\"][input_range],\n",
    "                element[\"Is_assessment\"][input_range],\n",
    "                element[\"Is_bronch\"][input_range],\n",
    "            ],\n",
    "            axis=1,\n",
    "        )\n",
    "        output_range = slice(metric_start + 5, last_assessment_start)\n",
    "        Y = np.stack(\n",
    "            [\n",
    "                element[\"Dy_comp\"][output_range],\n",
    "                element[\"Is_normal\"][output_range],\n",
    "                element[\"Is_assessment\"][output_range],\n",
    "                element[\"Is_bronch\"][output_range],\n",
    "            ],\n",
    "            axis=1,\n",
    "        )\n",
    "        if X.shape[0] < 10 or Y.shape[0] == 0:\n",
    "            continue\n",
    "        X_tensor = torch.from_numpy(X.astype(inout_dtype)).to(device)\n",
    "        Y_tensor = torch.from_numpy(Y.astype(inout_dtype)).to(device)\n",
    "        data.append((X_tensor, Y_tensor))\n",
    "\n",
    "    return data"
   ]
  },
  {
   "cell_type": "code",
   "execution_count": 10,
   "metadata": {},
   "outputs": [],
   "source": [
    "train_data = preprocess_no_padding(train_dataset, device=PREFERRED_DEVICE)\n",
    "val_data = preprocess_no_padding(val_dataset, device=PREFERRED_DEVICE)\n",
    "test_data = preprocess_no_padding(test_dataset, device=PREFERRED_DEVICE)"
   ]
  },
  {
   "cell_type": "markdown",
   "metadata": {},
   "source": [
    "### Training"
   ]
  },
  {
   "cell_type": "code",
   "execution_count": 11,
   "metadata": {},
   "outputs": [],
   "source": [
    "def train_eval_loop(\n",
    "    hparams: LSTMSeq2SeqHParams,\n",
    "    verbose: bool = True,\n",
    ") -> tuple[lstm.Seq2Seq, list[float], list[float]]:\n",
    "    device = infer_preferred_device(hparams.device)\n",
    "    seq2seq = lstm.Seq2Seq(\n",
    "        lstm.EncoderLSTM(hparams.hidden_size, hparams.num_layers),\n",
    "        lstm.DecoderLSTM(hparams.hidden_size, hparams.num_layers),\n",
    "    ).to(device)\n",
    "    optimizer = Adam(seq2seq.parameters(), lr=hparams.lr)\n",
    "    # if device == torch.device(\"xpu\"):\n",
    "    #     seq2seq, optimizer = ipex.optimize(model=seq2seq, optimizer=optimizer)\n",
    "    loss_function = nn.MSELoss()\n",
    "\n",
    "    losses_train = []\n",
    "    losses_val = []\n",
    "    for epoch in range(hparams.num_epochs):\n",
    "        running_losses_train = []\n",
    "        seq2seq.train()\n",
    "        for input, target in random.sample(train_data, k=len(train_data)):\n",
    "            output = seq2seq(input, target, hparams.teacher_forcing_ratio)\n",
    "            optimizer.zero_grad()\n",
    "            output_dy_comp = output[:, 0]\n",
    "            target_dy_comp = target[:, 0]\n",
    "            loss = loss_function(output_dy_comp, target_dy_comp)\n",
    "            loss.backward()\n",
    "            optimizer.step()\n",
    "            running_losses_train.append(loss.item())\n",
    "        mean_loss_train = np.mean(running_losses_train)\n",
    "        losses_train.append(mean_loss_train)\n",
    "\n",
    "        # Get prediction val\n",
    "        with torch.no_grad():\n",
    "            running_losses_val = []\n",
    "            seq2seq.eval()\n",
    "            for input, target in val_data:\n",
    "                output = seq2seq(input, target, 0)\n",
    "                output_dy_comp = output[:, 0]\n",
    "                target_dy_comp = target[:, 0]\n",
    "                loss = loss_function(output_dy_comp, target_dy_comp)\n",
    "                running_losses_val.append(loss.item())\n",
    "        mean_loss_val = np.mean(running_losses_val)\n",
    "        losses_val.append(mean_loss_val)\n",
    "        if verbose:\n",
    "            print(f\"Epoch {epoch}: train={mean_loss_train}, val={mean_loss_val}\")\n",
    "    return seq2seq, losses_train, losses_val"
   ]
  },
  {
   "cell_type": "code",
   "execution_count": 12,
   "metadata": {},
   "outputs": [
    {
     "name": "stdout",
     "output_type": "stream",
     "text": [
      "Epoch 0: train=6702.626951054164, val=12920.681640625\n",
      "Epoch 1: train=3385.05731185845, val=8337.894897460938\n",
      "Epoch 2: train=1855.8388669592994, val=5718.4537353515625\n",
      "Epoch 3: train=1227.4569059576306, val=4291.1865234375\n",
      "Epoch 4: train=997.0229823776654, val=3543.9747924804688\n",
      "Epoch 5: train=929.8635460193668, val=3143.8712158203125\n",
      "Epoch 6: train=906.6263270190784, val=3113.5396728515625\n",
      "Epoch 7: train=901.5423758540835, val=3205.7359008789062\n",
      "Epoch 8: train=894.5383509159088, val=2984.8672790527344\n",
      "Epoch 9: train=883.4342603462082, val=3259.966339111328\n",
      "Epoch 10: train=871.2802817902394, val=3122.701171875\n",
      "Epoch 11: train=835.720814207622, val=3324.1668395996094\n",
      "Epoch 12: train=561.653004781689, val=2329.7086791992188\n",
      "Epoch 13: train=392.6928562768868, val=1739.9488983154297\n",
      "Epoch 14: train=297.69203249684404, val=1366.275245666504\n",
      "Epoch 15: train=260.55810583233836, val=1028.9087295532227\n",
      "Epoch 16: train=201.80610326869146, val=1380.9712600708008\n",
      "Epoch 17: train=184.6986586017268, val=842.2700958251953\n",
      "Epoch 18: train=150.86591045260428, val=601.583251953125\n",
      "Epoch 19: train=144.18055815888303, val=853.3296585083008\n",
      "Epoch 20: train=135.51675722854478, val=413.225049495697\n",
      "Epoch 21: train=142.0454580815775, val=416.45138025283813\n",
      "Epoch 22: train=122.92623329162598, val=263.34433710575104\n",
      "Epoch 23: train=102.92633043208292, val=188.6328408718109\n",
      "Epoch 24: train=88.84300961579595, val=475.2687072753906\n",
      "Epoch 25: train=75.56397063604423, val=177.78606605529785\n",
      "Epoch 26: train=65.67502202689647, val=106.69686508178711\n",
      "Epoch 27: train=66.09839408312526, val=714.3789405822754\n",
      "Epoch 28: train=114.51178668567113, val=86.19191431999207\n",
      "Epoch 29: train=85.51612830885819, val=1985.032470703125\n",
      "Epoch 30: train=56.31189573364598, val=91.7018620967865\n",
      "Epoch 31: train=60.281502386927606, val=102.8288803100586\n",
      "Epoch 32: train=48.75505525725229, val=113.17363548278809\n",
      "Epoch 33: train=69.70894622653722, val=545.991133928299\n",
      "Epoch 34: train=52.34882503109319, val=130.3411521911621\n",
      "Epoch 35: train=47.27346560657024, val=435.4521541595459\n",
      "Epoch 36: train=38.19296806071486, val=969.7490901947021\n",
      "Epoch 37: train=47.79874527603388, val=82.70501375198364\n",
      "Epoch 38: train=42.277855184674266, val=363.5342879295349\n",
      "Epoch 39: train=55.11351246535778, val=180.4022297859192\n",
      "Epoch 40: train=64.84512125083378, val=1687.1711730957031\n",
      "Epoch 41: train=52.51333918826921, val=1298.3141021728516\n",
      "Epoch 42: train=40.63798292593232, val=322.7945237159729\n",
      "Epoch 43: train=32.731650923405375, val=233.61113023757935\n",
      "Epoch 44: train=37.70248814033611, val=344.1767997741699\n",
      "Epoch 45: train=47.11805507295898, val=732.2123889923096\n",
      "Epoch 46: train=23.52115329780749, val=1370.3634490966797\n",
      "Epoch 47: train=25.990699768492153, val=441.2304973602295\n",
      "Epoch 48: train=40.057743651526316, val=86.13791728019714\n",
      "Epoch 49: train=66.54966217705181, val=418.0680482983589\n"
     ]
    }
   ],
   "source": [
    "seq2seq, losses_train, losses_val = train_eval_loop(\n",
    "    LSTMSeq2SeqHParams(\n",
    "        num_epochs=50,\n",
    "        hidden_size=253,\n",
    "        num_layers=1,\n",
    "        lr=0.002,\n",
    "        teacher_forcing_ratio=0.4641271501763626,\n",
    "        inout_dtype=np.float32,\n",
    "        device=PREFERRED_DEVICE,\n",
    "    )\n",
    ")"
   ]
  },
  {
   "cell_type": "code",
   "execution_count": 20,
   "metadata": {},
   "outputs": [
    {
     "data": {
      "text/plain": [
       "Text(0.5, 1.0, 'Training Curve for LSTM Seq2Seq')"
      ]
     },
     "execution_count": 20,
     "metadata": {},
     "output_type": "execute_result"
    },
    {
     "data": {
      "image/png": "[encoded data removed]",
      "text/plain": [
       "<Figure size 640x480 with 1 Axes>"
      ]
     },
     "metadata": {},
     "output_type": "display_data"
    }
   ],
   "source": [
    "plt.plot(losses_train, label=\"Train\")\n",
    "plt.plot(losses_val, label=\"Validation\")\n",
    "plt.xlabel(\"Epoch\")\n",
    "plt.ylabel(\"Loss\")\n",
    "plt.legend()\n",
    "plt.title(\"Training Curve for LSTM Seq2Seq\")"
   ]
  },
  {
   "cell_type": "code",
   "execution_count": 21,
   "metadata": {},
   "outputs": [],
   "source": [
    "split_to_targets_and_outputs = {\"train\": [], \"val\": [], \"test\": []}\n",
    "\n",
    "with torch.no_grad():\n",
    "    for split_name, split_data in (\n",
    "        (\"train\", train_data),\n",
    "        (\"val\", val_data),\n",
    "        (\"test\", test_data),\n",
    "    ):\n",
    "        for input, target in split_data:\n",
    "            output = seq2seq(input, target, 0)\n",
    "            split_to_targets_and_outputs[split_name].append(\n",
    "                (target.cpu().numpy(), output.cpu().numpy())\n",
    "            )"
   ]
  },
  {
   "cell_type": "markdown",
   "metadata": {},
   "source": [
    "### Plots"
   ]
  },
  {
   "cell_type": "code",
   "execution_count": 22,
   "metadata": {},
   "outputs": [],
   "source": [
    "def plot_forecasting(\n",
    "    index: int, targets_and_outputs: list[tuple[np.ndarray, np.ndarray]]\n",
    ") -> None:\n",
    "    target, output = targets_and_outputs[index]\n",
    "    output_dy_comp = output[:, 0]\n",
    "    target_dy_comp = target[:, 0]\n",
    "    plt.plot(output_dy_comp, label=\"Output\")\n",
    "    plt.plot(target_dy_comp, label=\"Target\")\n",
    "    plt.legend()\n",
    "    plt.xlabel(\"Breath number\")\n",
    "    plt.ylabel(\"Dynamic compliance\")\n",
    "    plt.title(f\"Forecasting for index {index}\")"
   ]
  },
  {
   "cell_type": "code",
   "execution_count": 23,
   "metadata": {},
   "outputs": [
    {
     "data": {
      "application/vnd.jupyter.widget-view+json": {
       "model_id": "81d8ff0bfb8a42728c58f664cc1feee6",
       "version_major": 2,
       "version_minor": 0
      },
      "text/plain": [
       "interactive(children=(IntSlider(value=100, description='index', max=139), Output()), _dom_classes=('widget-int…"
      ]
     },
     "metadata": {},
     "output_type": "display_data"
    },
    {
     "data": {
      "text/plain": [
       "<function __main__.plot_forecasting(index: int, targets_and_outputs: list[tuple[numpy.ndarray, numpy.ndarray]]) -> None>"
      ]
     },
     "execution_count": 23,
     "metadata": {},
     "output_type": "execute_result"
    }
   ],
   "source": [
    "interact(\n",
    "    plot_forecasting,\n",
    "    index=widgets.IntSlider(\n",
    "        value=100,\n",
    "        min=0,\n",
    "        max=len(split_to_targets_and_outputs[\"train\"]) - 1,\n",
    "    ),\n",
    "    targets_and_outputs=widgets.fixed(split_to_targets_and_outputs[\"train\"]),\n",
    ")"
   ]
  },
  {
   "cell_type": "code",
   "execution_count": 24,
   "metadata": {},
   "outputs": [
    {
     "data": {
      "application/vnd.jupyter.widget-view+json": {
       "model_id": "e48f60f3e8d6479880d792a99095f08a",
       "version_major": 2,
       "version_minor": 0
      },
      "text/plain": [
       "interactive(children=(IntSlider(value=3, description='index', max=3), Output()), _dom_classes=('widget-interac…"
      ]
     },
     "metadata": {},
     "output_type": "display_data"
    },
    {
     "data": {
      "text/plain": [
       "<function __main__.plot_forecasting(index: int, targets_and_outputs: list[tuple[numpy.ndarray, numpy.ndarray]]) -> None>"
      ]
     },
     "execution_count": 24,
     "metadata": {},
     "output_type": "execute_result"
    }
   ],
   "source": [
    "interact(\n",
    "    plot_forecasting,\n",
    "    index=widgets.IntSlider(\n",
    "        value=3,\n",
    "        min=0,\n",
    "        max=len(split_to_targets_and_outputs[\"test\"]) - 1,\n",
    "    ),\n",
    "    targets_and_outputs=widgets.fixed(split_to_targets_and_outputs[\"test\"]),\n",
    ")"
   ]
  },
  {
   "cell_type": "markdown",
   "metadata": {},
   "source": [
    "### Hyperparameter Tuning"
   ]
  },
  {
   "cell_type": "code",
   "execution_count": 25,
   "metadata": {},
   "outputs": [],
   "source": [
    "def objective(trial: optuna.Trial) -> float:\n",
    "    hparams = LSTMSeq2SeqHParams(\n",
    "        num_epochs=32,\n",
    "        hidden_size=trial.suggest_int(\"hidden_size\", 32, 256, log=True),\n",
    "        num_layers=trial.suggest_int(\"num_layers\", 1, 3),\n",
    "        lr=trial.suggest_float(\"lr\", 1e-4, 1e-2, log=True),\n",
    "        teacher_forcing_ratio=trial.suggest_float(\"teacher_forcing_ratio\", 0.1, 0.9),\n",
    "        inout_dtype=np.float32,\n",
    "        device=PREFERRED_DEVICE,\n",
    "    )\n",
    "    _, losses_train, losses_val = train_eval_loop(hparams, verbose=False)\n",
    "    losses = sorted(losses_train + losses_val)\n",
    "    return np.mean(losses[: min(5, len(losses))])"
   ]
  },
  {
   "cell_type": "code",
   "execution_count": 26,
   "metadata": {},
   "outputs": [
    {
     "name": "stderr",
     "output_type": "stream",
     "text": [
      "/tmp/ipykernel_1071824/3967608439.py:2: ExperimentalWarning: JournalStorage is experimental (supported from v3.1.0). The interface can change in the future.\n",
      "  storage = optuna.storages.JournalStorage(\n"
     ]
    },
    {
     "ename": "DuplicatedStudyError",
     "evalue": "Another study with name '20231130_lstm_v2' already exists. Please specify a different name, or reuse the existing one by setting `load_if_exists` (for Python API) or `--skip-if-exists` flag (for CLI).",
     "output_type": "error",
     "traceback": [
      "\u001b[0;31m---------------------------------------------------------------------------\u001b[0m",
      "\u001b[0;31mDuplicatedStudyError\u001b[0m                      Traceback (most recent call last)",
      "\u001b[1;32m/media/xuanghdu/Xuanghdu's WD 8TB/OneDrive-Linux/OneDrive-UofT/UofT/2023F/MIE429/MIE429/notebooks/lstm.ipynb Cell 24\u001b[0m line \u001b[0;36m8\n\u001b[1;32m      <a href='vscode-notebook-cell:/media/xuanghdu/Xuanghdu%27s%20WD%208TB/OneDrive-Linux/OneDrive-UofT/UofT/2023F/MIE429/MIE429/notebooks/lstm.ipynb#X32sZmlsZQ%3D%3D?line=0'>1</a>\u001b[0m name \u001b[39m=\u001b[39m \u001b[39m\"\u001b[39m\u001b[39m20231130_lstm_v2\u001b[39m\u001b[39m\"\u001b[39m\n\u001b[1;32m      <a href='vscode-notebook-cell:/media/xuanghdu/Xuanghdu%27s%20WD%208TB/OneDrive-Linux/OneDrive-UofT/UofT/2023F/MIE429/MIE429/notebooks/lstm.ipynb#X32sZmlsZQ%3D%3D?line=1'>2</a>\u001b[0m storage \u001b[39m=\u001b[39m optuna\u001b[39m.\u001b[39mstorages\u001b[39m.\u001b[39mJournalStorage(\n\u001b[1;32m      <a href='vscode-notebook-cell:/media/xuanghdu/Xuanghdu%27s%20WD%208TB/OneDrive-Linux/OneDrive-UofT/UofT/2023F/MIE429/MIE429/notebooks/lstm.ipynb#X32sZmlsZQ%3D%3D?line=2'>3</a>\u001b[0m     optuna\u001b[39m.\u001b[39mstorages\u001b[39m.\u001b[39mJournalFileStorage(\n\u001b[1;32m      <a href='vscode-notebook-cell:/media/xuanghdu/Xuanghdu%27s%20WD%208TB/OneDrive-Linux/OneDrive-UofT/UofT/2023F/MIE429/MIE429/notebooks/lstm.ipynb#X32sZmlsZQ%3D%3D?line=3'>4</a>\u001b[0m         os\u001b[39m.\u001b[39mfspath(get_project_root_dir() \u001b[39m/\u001b[39m \u001b[39m\"\u001b[39m\u001b[39mtuning\u001b[39m\u001b[39m\"\u001b[39m \u001b[39m/\u001b[39m \u001b[39mf\u001b[39m\u001b[39m\"\u001b[39m\u001b[39m{\u001b[39;00mname\u001b[39m}\u001b[39;00m\u001b[39m.log\u001b[39m\u001b[39m\"\u001b[39m)\n\u001b[1;32m      <a href='vscode-notebook-cell:/media/xuanghdu/Xuanghdu%27s%20WD%208TB/OneDrive-Linux/OneDrive-UofT/UofT/2023F/MIE429/MIE429/notebooks/lstm.ipynb#X32sZmlsZQ%3D%3D?line=4'>5</a>\u001b[0m     )\n\u001b[1;32m      <a href='vscode-notebook-cell:/media/xuanghdu/Xuanghdu%27s%20WD%208TB/OneDrive-Linux/OneDrive-UofT/UofT/2023F/MIE429/MIE429/notebooks/lstm.ipynb#X32sZmlsZQ%3D%3D?line=5'>6</a>\u001b[0m )\n\u001b[0;32m----> <a href='vscode-notebook-cell:/media/xuanghdu/Xuanghdu%27s%20WD%208TB/OneDrive-Linux/OneDrive-UofT/UofT/2023F/MIE429/MIE429/notebooks/lstm.ipynb#X32sZmlsZQ%3D%3D?line=7'>8</a>\u001b[0m study \u001b[39m=\u001b[39m optuna\u001b[39m.\u001b[39;49mcreate_study(storage\u001b[39m=\u001b[39;49mstorage, study_name\u001b[39m=\u001b[39;49mname, direction\u001b[39m=\u001b[39;49m\u001b[39m\"\u001b[39;49m\u001b[39mminimize\u001b[39;49m\u001b[39m\"\u001b[39;49m)\n\u001b[1;32m      <a href='vscode-notebook-cell:/media/xuanghdu/Xuanghdu%27s%20WD%208TB/OneDrive-Linux/OneDrive-UofT/UofT/2023F/MIE429/MIE429/notebooks/lstm.ipynb#X32sZmlsZQ%3D%3D?line=8'>9</a>\u001b[0m study \u001b[39m=\u001b[39m optuna\u001b[39m.\u001b[39mload_study(study_name\u001b[39m=\u001b[39mname, storage\u001b[39m=\u001b[39mstorage)\n",
      "File \u001b[0;32m~/.local/lib/python3.10/site-packages/optuna/_convert_positional_args.py:63\u001b[0m, in \u001b[0;36mconvert_positional_args.<locals>.converter_decorator.<locals>.converter_wrapper\u001b[0;34m(*args, **kwargs)\u001b[0m\n\u001b[1;32m     58\u001b[0m         \u001b[39mraise\u001b[39;00m \u001b[39mTypeError\u001b[39;00m(\n\u001b[1;32m     59\u001b[0m             \u001b[39mf\u001b[39m\u001b[39m\"\u001b[39m\u001b[39m{\u001b[39;00mfunc\u001b[39m.\u001b[39m\u001b[39m__name__\u001b[39m\u001b[39m}\u001b[39;00m\u001b[39m() got multiple values for argument \u001b[39m\u001b[39m'\u001b[39m\u001b[39m{\u001b[39;00marg_name\u001b[39m}\u001b[39;00m\u001b[39m'\u001b[39m\u001b[39m.\u001b[39m\u001b[39m\"\u001b[39m\n\u001b[1;32m     60\u001b[0m         )\n\u001b[1;32m     61\u001b[0m     kwargs[arg_name] \u001b[39m=\u001b[39m val\n\u001b[0;32m---> 63\u001b[0m \u001b[39mreturn\u001b[39;00m func(\u001b[39m*\u001b[39;49m\u001b[39m*\u001b[39;49mkwargs)\n",
      "File \u001b[0;32m~/.local/lib/python3.10/site-packages/optuna/study/study.py:1248\u001b[0m, in \u001b[0;36mcreate_study\u001b[0;34m(storage, sampler, pruner, study_name, direction, load_if_exists, directions)\u001b[0m\n\u001b[1;32m   1246\u001b[0m storage \u001b[39m=\u001b[39m storages\u001b[39m.\u001b[39mget_storage(storage)\n\u001b[1;32m   1247\u001b[0m \u001b[39mtry\u001b[39;00m:\n\u001b[0;32m-> 1248\u001b[0m     study_id \u001b[39m=\u001b[39m storage\u001b[39m.\u001b[39;49mcreate_new_study(direction_objects, study_name)\n\u001b[1;32m   1249\u001b[0m \u001b[39mexcept\u001b[39;00m exceptions\u001b[39m.\u001b[39mDuplicatedStudyError:\n\u001b[1;32m   1250\u001b[0m     \u001b[39mif\u001b[39;00m load_if_exists:\n",
      "File \u001b[0;32m~/.local/lib/python3.10/site-packages/optuna/storages/_journal/storage.py:161\u001b[0m, in \u001b[0;36mJournalStorage.create_new_study\u001b[0;34m(self, directions, study_name)\u001b[0m\n\u001b[1;32m    157\u001b[0m \u001b[39mwith\u001b[39;00m \u001b[39mself\u001b[39m\u001b[39m.\u001b[39m_thread_lock:\n\u001b[1;32m    158\u001b[0m     \u001b[39mself\u001b[39m\u001b[39m.\u001b[39m_write_log(\n\u001b[1;32m    159\u001b[0m         JournalOperation\u001b[39m.\u001b[39mCREATE_STUDY, {\u001b[39m\"\u001b[39m\u001b[39mstudy_name\u001b[39m\u001b[39m\"\u001b[39m: study_name, \u001b[39m\"\u001b[39m\u001b[39mdirections\u001b[39m\u001b[39m\"\u001b[39m: directions}\n\u001b[1;32m    160\u001b[0m     )\n\u001b[0;32m--> 161\u001b[0m     \u001b[39mself\u001b[39;49m\u001b[39m.\u001b[39;49m_sync_with_backend()\n\u001b[1;32m    163\u001b[0m     \u001b[39mfor\u001b[39;00m frozen_study \u001b[39min\u001b[39;00m \u001b[39mself\u001b[39m\u001b[39m.\u001b[39m_replay_result\u001b[39m.\u001b[39mget_all_studies():\n\u001b[1;32m    164\u001b[0m         \u001b[39mif\u001b[39;00m frozen_study\u001b[39m.\u001b[39mstudy_name \u001b[39m!=\u001b[39m study_name:\n",
      "File \u001b[0;32m~/.local/lib/python3.10/site-packages/optuna/storages/_journal/storage.py:150\u001b[0m, in \u001b[0;36mJournalStorage._sync_with_backend\u001b[0;34m(self)\u001b[0m\n\u001b[1;32m    148\u001b[0m \u001b[39mdef\u001b[39;00m \u001b[39m_sync_with_backend\u001b[39m(\u001b[39mself\u001b[39m) \u001b[39m-\u001b[39m\u001b[39m>\u001b[39m \u001b[39mNone\u001b[39;00m:\n\u001b[1;32m    149\u001b[0m     logs \u001b[39m=\u001b[39m \u001b[39mself\u001b[39m\u001b[39m.\u001b[39m_backend\u001b[39m.\u001b[39mread_logs(\u001b[39mself\u001b[39m\u001b[39m.\u001b[39m_replay_result\u001b[39m.\u001b[39mlog_number_read)\n\u001b[0;32m--> 150\u001b[0m     \u001b[39mself\u001b[39;49m\u001b[39m.\u001b[39;49m_replay_result\u001b[39m.\u001b[39;49mapply_logs(logs)\n",
      "File \u001b[0;32m~/.local/lib/python3.10/site-packages/optuna/storages/_journal/storage.py:403\u001b[0m, in \u001b[0;36mJournalStorageReplayResult.apply_logs\u001b[0;34m(self, logs)\u001b[0m\n\u001b[1;32m    401\u001b[0m op \u001b[39m=\u001b[39m log[\u001b[39m\"\u001b[39m\u001b[39mop_code\u001b[39m\u001b[39m\"\u001b[39m]\n\u001b[1;32m    402\u001b[0m \u001b[39mif\u001b[39;00m op \u001b[39m==\u001b[39m JournalOperation\u001b[39m.\u001b[39mCREATE_STUDY:\n\u001b[0;32m--> 403\u001b[0m     \u001b[39mself\u001b[39;49m\u001b[39m.\u001b[39;49m_apply_create_study(log)\n\u001b[1;32m    404\u001b[0m \u001b[39melif\u001b[39;00m op \u001b[39m==\u001b[39m JournalOperation\u001b[39m.\u001b[39mDELETE_STUDY:\n\u001b[1;32m    405\u001b[0m     \u001b[39mself\u001b[39m\u001b[39m.\u001b[39m_apply_delete_study(log)\n",
      "File \u001b[0;32m~/.local/lib/python3.10/site-packages/optuna/storages/_journal/storage.py:475\u001b[0m, in \u001b[0;36mJournalStorageReplayResult._apply_create_study\u001b[0;34m(self, log)\u001b[0m\n\u001b[1;32m    473\u001b[0m \u001b[39mif\u001b[39;00m study_name \u001b[39min\u001b[39;00m [s\u001b[39m.\u001b[39mstudy_name \u001b[39mfor\u001b[39;00m s \u001b[39min\u001b[39;00m \u001b[39mself\u001b[39m\u001b[39m.\u001b[39m_studies\u001b[39m.\u001b[39mvalues()]:\n\u001b[1;32m    474\u001b[0m     \u001b[39mif\u001b[39;00m \u001b[39mself\u001b[39m\u001b[39m.\u001b[39m_is_issued_by_this_worker(log):\n\u001b[0;32m--> 475\u001b[0m         \u001b[39mraise\u001b[39;00m DuplicatedStudyError(\n\u001b[1;32m    476\u001b[0m             \u001b[39m\"\u001b[39m\u001b[39mAnother study with name \u001b[39m\u001b[39m'\u001b[39m\u001b[39m{}\u001b[39;00m\u001b[39m'\u001b[39m\u001b[39m already exists. \u001b[39m\u001b[39m\"\u001b[39m\n\u001b[1;32m    477\u001b[0m             \u001b[39m\"\u001b[39m\u001b[39mPlease specify a different name, or reuse the existing one \u001b[39m\u001b[39m\"\u001b[39m\n\u001b[1;32m    478\u001b[0m             \u001b[39m\"\u001b[39m\u001b[39mby setting `load_if_exists` (for Python API) or \u001b[39m\u001b[39m\"\u001b[39m\n\u001b[1;32m    479\u001b[0m             \u001b[39m\"\u001b[39m\u001b[39m`--skip-if-exists` flag (for CLI).\u001b[39m\u001b[39m\"\u001b[39m\u001b[39m.\u001b[39mformat(study_name)\n\u001b[1;32m    480\u001b[0m         )\n\u001b[1;32m    481\u001b[0m     \u001b[39mreturn\u001b[39;00m\n\u001b[1;32m    483\u001b[0m study_id \u001b[39m=\u001b[39m \u001b[39mself\u001b[39m\u001b[39m.\u001b[39m_next_study_id\n",
      "\u001b[0;31mDuplicatedStudyError\u001b[0m: Another study with name '20231130_lstm_v2' already exists. Please specify a different name, or reuse the existing one by setting `load_if_exists` (for Python API) or `--skip-if-exists` flag (for CLI)."
     ]
    }
   ],
   "source": [
    "name = \"20231130_lstm_v2\"\n",
    "storage = optuna.storages.JournalStorage(\n",
    "    optuna.storages.JournalFileStorage(\n",
    "        os.fspath(get_project_root_dir() / \"tuning\" / f\"{name}.log\")\n",
    "    )\n",
    ")\n",
    "\n",
    "study = optuna.create_study(storage=storage, study_name=name, direction=\"minimize\")\n",
    "study = optuna.load_study(study_name=name, storage=storage)"
   ]
  },
  {
   "cell_type": "code",
   "execution_count": null,
   "metadata": {},
   "outputs": [],
   "source": [
    "study.optimize(objective, n_trials=128)"
   ]
  }
 ],
 "metadata": {
  "kernelspec": {
   "display_name": "mie429",
   "language": "python",
   "name": "python3"
  },
  "language_info": {
   "codemirror_mode": {
    "name": "ipython",
    "version": 3
   },
   "file_extension": ".py",
   "mimetype": "text/x-python",
   "name": "python",
   "nbconvert_exporter": "python",
   "pygments_lexer": "ipython3",
   "version": "3.10.12"
  }
 },
 "nbformat": 4,
 "nbformat_minor": 2
}
